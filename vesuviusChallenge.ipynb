{
 "cells": [
  {
   "cell_type": "markdown",
   "id": "7a9234bf-eb07-4665-99d5-12a0e383227f",
   "metadata": {},
   "source": [
    "## Vesuvius Challenge - Ink Detection\n",
    "### Using Oracle engine for Virtual Unwrapping\n",
    "\n",
    "Here is a demonstration of how the oracle engine can be used to solve problems.\n",
    "\n",
    "```\n",
    "This is a Code Competition. \n",
    "\n",
    "Submissions to this competition must be made through Notebooks. In order for the \"Submit\" button to be active after a commit, the following conditions must be met:\n",
    "\n",
    "CPU Notebook <= 9 hours run-time\n",
    "\n",
    "GPU Notebook <= 9 hours run-time\n",
    "\n",
    "Internet access disabled\n",
    "\n",
    "Freely & publicly available external data is allowed, except photos or other data associated with the fragments\n",
    "\n",
    "All your work should be fully reproducible by the contest organizers\n",
    "\n",
    "Offline pretraining (on external computers) is allowed. Just make sure to document your process so we can reproduce it if you win.\n",
    "\n",
    "Submission file must be named submission.csv\n",
    "\n",
    "For the full rules, see the rules page\n",
    "Please see the Code Competition FAQ for more information on how to submit. And review the code debugging doc if you are encountering submission errors.\n",
    "```"
   ]
  },
  {
   "cell_type": "markdown",
   "id": "a4e79214-aa35-48b2-9173-12b475b004e0",
   "metadata": {
    "tags": []
   },
   "source": [
    "### Plan\n",
    "For instructions on how to use pynq FPGAs as local nodes visit www.marxvim.com/challenges\n",
    "\n",
    "To run this project offline, run the following on a terminal\n",
    "\n",
    "-> python3 vesuvuiusChallenge.py\n",
    "\n",
    "The following models will be used\n",
    "\n",
    "1. Pretrained YOLO model\n",
    "2. Pretrained CNN model\n",
    "3. CNN model\n",
    "4. GAN\n",
    "5. Malta\n",
    "\n",
    "The goal is to run all 5 models in 5 nodes, with one alpha node, and provide a result in less than 9 hours run-time on a CPU & GPU. "
   ]
  },
  {
   "cell_type": "code",
   "execution_count": null,
   "id": "c9bbeb4e-4ab4-48e1-810e-02fc983d14b1",
   "metadata": {},
   "outputs": [],
   "source": []
  }
 ],
 "metadata": {
  "kernelspec": {
   "display_name": "Python 3 (ipykernel)",
   "language": "python",
   "name": "python3"
  },
  "language_info": {
   "codemirror_mode": {
    "name": "ipython",
    "version": 3
   },
   "file_extension": ".py",
   "mimetype": "text/x-python",
   "name": "python",
   "nbconvert_exporter": "python",
   "pygments_lexer": "ipython3",
   "version": "3.10.4"
  }
 },
 "nbformat": 4,
 "nbformat_minor": 5
}
