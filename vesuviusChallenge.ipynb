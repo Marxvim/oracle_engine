{
 "cells": [
  {
   "cell_type": "markdown",
   "id": "7a9234bf-eb07-4665-99d5-12a0e383227f",
   "metadata": {},
   "source": [
    "## Vesuvius Challenge - Ink Detection\n",
    "### Using Oracle engine for Virtual Unwrapping\n",
    "\n",
    "Here is a demonstration of how the oracle engine can be used to solve problems.\n",
    "\n",
    "```\n",
    "This is a Code Competition. \n",
    "\n",
    "Submissions to this competition must be made through Notebooks. In order for the \"Submit\" button to be active after a commit, the following conditions must be met:\n",
    "\n",
    "CPU Notebook <= 9 hours run-time\n",
    "\n",
    "GPU Notebook <= 9 hours run-time\n",
    "\n",
    "Internet access disabled\n",
    "\n",
    "Freely & publicly available external data is allowed, except photos or other data associated with the fragments\n",
    "\n",
    "All your work should be fully reproducible by the contest organizers\n",
    "\n",
    "Offline pretraining (on external computers) is allowed. Just make sure to document your process so we can reproduce it if you win.\n",
    "\n",
    "Submission file must be named submission.csv\n",
    "\n",
    "For the full rules, see the rules page\n",
    "Please see the Code Competition FAQ for more information on how to submit. And review the code debugging doc if you are encountering submission errors.\n",
    "```"
   ]
  },
  {
   "cell_type": "markdown",
   "id": "a4e79214-aa35-48b2-9173-12b475b004e0",
   "metadata": {
    "tags": []
   },
   "source": [
    "### Plan\n",
    "For instructions on how to use pynq FPGAs as local nodes visit www.marxvim.com/challenges\n",
    "\n",
    "To run this project offline, run the following on a terminal\n",
    "\n",
    "-> python3 vesuvuiusChallenge.py\n",
    "\n",
    "The following models will be used\n",
    "\n",
    "1. Pretrained YOLO model\n",
    "2. Pretrained CNN model\n",
    "3. CNN model\n",
    "4. GAN\n",
    "5. Malta\n",
    "\n",
    "The goal is to run all 5 models in 5 nodes, with one alpha node, and provide a result in less than 9 hours run-time on a CPU & GPU. "
   ]
  },
  {
   "cell_type": "code",
   "execution_count": 2,
   "id": "c9bbeb4e-4ab4-48e1-810e-02fc983d14b1",
   "metadata": {
    "tags": []
   },
   "outputs": [
    {
     "ename": "SyntaxError",
     "evalue": "invalid syntax. Perhaps you forgot a comma? (1859076038.py, line 4)",
     "output_type": "error",
     "traceback": [
      "\u001b[0;36m  Cell \u001b[0;32mIn[2], line 4\u001b[0;36m\u001b[0m\n\u001b[0;31m    training_data: image_training_data\u001b[0m\n\u001b[0m                   ^\u001b[0m\n\u001b[0;31mSyntaxError\u001b[0m\u001b[0;31m:\u001b[0m invalid syntax. Perhaps you forgot a comma?\n"
     ]
    }
   ],
   "source": [
    "import oas as oracle\n",
    "\n",
    "data = {\n",
    "training_data: image_training_data\n",
    "test_data: image_test_data\n",
    "}\n",
    "node_map = \"3b2ga\"\n",
    "node_inputs = {'-1', '-1', '-1', '123', '123'}\n",
    "node_outputs = {'4,5', '4,5', '4,5', '6', '6'}\n",
    "node_profile = \"13748\"\n",
    "\n",
    "# Configure Oracle Engine\n",
    "engine = oracle(data, node_inputs, node_outputs, node_profile)\n",
    "engine.set_node(5, custom_cnn_path)\n",
    "\n",
    "# Runs training and testing for models in each node\n",
    "model = engine.train()\n",
    "\n",
    "# reduce the number of models and data content based on engine training result\n",
    "model.optimize()\n",
    "\n",
    "# Use trained oracle model \n",
    "result = model.run(demo_data)\n",
    "\n",
    "print(result)\n"
   ]
  },
  {
   "cell_type": "code",
   "execution_count": 3,
   "id": "d9def3ff-2c1a-442c-abd4-08b84e174fec",
   "metadata": {
    "tags": []
   },
   "outputs": [
    {
     "data": {
      "text/html": [
       "\n",
       "        <iframe\n",
       "            width=\"1200\"\n",
       "            height=\"1000\"\n",
       "            src=\"./appTemplate.html\"\n",
       "            frameborder=\"0\"\n",
       "            allowfullscreen\n",
       "            \n",
       "        ></iframe>\n",
       "        "
      ],
      "text/plain": [
       "<IPython.lib.display.IFrame at 0x7f5248587460>"
      ]
     },
     "execution_count": 3,
     "metadata": {},
     "output_type": "execute_result"
    }
   ],
   "source": [
    "from IPython.display import IFrame\n",
    "\n",
    "IFrame(src='./appTemplate.html', width=1200, height=1000)"
   ]
  },
  {
   "cell_type": "code",
   "execution_count": null,
   "id": "8bd2d2e1-17df-4c22-8e8b-cc2af93d92eb",
   "metadata": {},
   "outputs": [],
   "source": []
  }
 ],
 "metadata": {
  "kernelspec": {
   "display_name": "Python 3 (ipykernel)",
   "language": "python",
   "name": "python3"
  },
  "language_info": {
   "codemirror_mode": {
    "name": "ipython",
    "version": 3
   },
   "file_extension": ".py",
   "mimetype": "text/x-python",
   "name": "python",
   "nbconvert_exporter": "python",
   "pygments_lexer": "ipython3",
   "version": "3.10.4"
  }
 },
 "nbformat": 4,
 "nbformat_minor": 5
}
