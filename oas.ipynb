{
 "cells": [
  {
   "cell_type": "code",
   "execution_count": null,
   "id": "517be871-a02b-40b2-9ef7-c1d4723df1d0",
   "metadata": {
    "tags": []
   },
   "outputs": [],
   "source": [
    "from IPython.core.display import display, HTML\n",
    "from bs4 import BeautifulSoup as bs\n",
    "import os\n",
    "import re\n",
    "import codecs"
   ]
  },
  {
   "cell_type": "code",
   "execution_count": 1,
   "id": "517822cc-ea03-4e7f-a726-5d67c126ff10",
   "metadata": {
    "tags": []
   },
   "outputs": [
    {
     "ename": "SyntaxError",
     "evalue": "unterminated string literal (detected at line 14) (513320101.py, line 14)",
     "output_type": "error",
     "traceback": [
      "\u001b[0;36m  Cell \u001b[0;32mIn[1], line 14\u001b[0;36m\u001b[0m\n\u001b[0;31m    template_cluster_map = parsed_template_cluster_map.replace(\"'id', \"id\")\u001b[0m\n\u001b[0m                                                                         ^\u001b[0m\n\u001b[0;31mSyntaxError\u001b[0m\u001b[0;31m:\u001b[0m unterminated string literal (detected at line 14)\n"
     ]
    }
   ],
   "source": [
    "class Oracle:\n",
    "    def __init__(self, access = 'offline',\n",
    "                 node_map = '',\n",
    "                 node_profile = '',\n",
    "                 node_weights = []):\n",
    "        self.access = access,\n",
    "        self.node_map = node_map\n",
    "        self.node_profile = node_profile\n",
    "        self.node_weights = node_weights\n",
    "        #print('\\n-> configured oracle')\n",
    "    \n",
    "    def template_parser(self):\n",
    "        parsed_template_cluster_map = str(self.generate_map())\n",
    "        template_cluster_map = parsed_template_cluster_map.replace(\"'id'\", \"id\").replace(\"'parent'\", \"parent\").replace(\"'name'\", \"name\").replace(\"'value'\", \"value\")\n",
    "        template_script = codecs.open(\"./appTemplate.html\", 'r')\n",
    "        oracle_script = codecs.open(\"./oracleReport.html\", 'w')\n",
    "        html = template_script.read()\n",
    "        parsed_script = html.replace('cluster_map', template_cluster_map)\n",
    "        oracle_script.write(parsed_script)\n",
    "        \n",
    "        #soup = bs(html, 'html.parser')\n",
    "        #parsed_script = soup.find_all('script')\n",
    "        #parsed_script[1] = parsed_script[1].text.replace('cluster_map', template_cluster_map)\n",
    "        #soup.find_all('script').replace_with(parsed_script)\n",
    "        #help(soup.find_all('script'))\n",
    "        #.replace_with(template_cluster_map)\n",
    "        \n",
    "        return parsed_script\n",
    "    \n",
    "    def get_model_type(self, model_id):\n",
    "        if model_id == 1:\n",
    "            return 'gant'\n",
    "        elif model_id == 2:\n",
    "            return 'gan' \n",
    "        elif model_id == 3:\n",
    "            return 'cnnt' \n",
    "        elif model_id == 4:\n",
    "            return 'cnn'\n",
    "        elif model_id == 5:\n",
    "            return 'gpt'\n",
    "        elif model_id == 6:\n",
    "            return 'dalle' \n",
    "        elif model_id == 7:\n",
    "            return 'malta'\n",
    "        else:\n",
    "            return 'yolo'\n",
    "    \n",
    "    def get_model_names(self):\n",
    "        models = []\n",
    "        for index in range(len(self.node_profile)):\n",
    "            node_id = int(self.node_profile[index])\n",
    "            models.append(self.get_model_type(node_id))\n",
    "        models.append('alpha')\n",
    "        return models\n",
    "            \n",
    "        \n",
    "    \n",
    "    def generate_map(self):\n",
    "        node_cluster_map = []\n",
    "        model_names = self.get_model_names()\n",
    "        node_weights = self.node_weights\n",
    "        \n",
    "        for node in range(len(self.node_profile)):\n",
    "            weights = node_weights[node]\n",
    "            for index in range(len(weights)):\n",
    "                model_id = model_names[node]+str(index)\n",
    "                weight = int(weights[index])\n",
    "                parent = model_names[weight]+str(0)\n",
    "                description = model_names[node]\n",
    "                \n",
    "                node_map = {'id':  model_id, \n",
    "                            'parent':  parent,\n",
    "                            'name': description,\n",
    "                            'value': 741000000\n",
    "                           }\n",
    "                node_cluster_map.append(node_map)\n",
    "        node_map = {'id':  'alpha0', \n",
    "                    'parent':  '',\n",
    "                    'name': 'alpha'}\n",
    "        node_cluster_map.append(node_map)\n",
    "        \n",
    "        return node_cluster_map\n",
    "                \n",
    "                \n",
    "        \n",
    "        return self.node_map\n",
    "        \n",
    "    def set_node(self, node_number, model_path):\n",
    "        #set node\n",
    "        return none \n",
    "        \n",
    "    def train(self):\n",
    "        #train model\n",
    "        return none\n",
    "        \n",
    "    def optimize(self):\n",
    "        #optimize model\n",
    "        return none\n",
    "        \n",
    "    def run(self, oracle_data):\n",
    "        #magic\n",
    "        return none\n",
    "        \n",
    "        "
   ]
  },
  {
   "cell_type": "code",
   "execution_count": null,
   "id": "a6703cd5-699a-4f30-a1bb-3c8dd10d5952",
   "metadata": {},
   "outputs": [],
   "source": [
    "# engine = oracle()\n",
    "# engine.template_parser()"
   ]
  },
  {
   "cell_type": "code",
   "execution_count": null,
   "id": "4c430313-2553-48d5-8ae2-ca12e56fa2d2",
   "metadata": {},
   "outputs": [],
   "source": [
    "\n",
    "    # Give location where text is\n",
    "    # stored which you wish to alter\n",
    "#     old_text = soup.find(\"p\", {\"id\": \"para\"})\n",
    "\n",
    "#     # Replace the already stored text with\n",
    "#     # the new text which you wish to assign\n",
    "#     new_text = old_text.find(text=re.compile(\n",
    "#         'Geeks For Geeks')).replace_with('Vinayak Rai')\n",
    "\n",
    "#     # Alter HTML file to see the changes done\n",
    "#     with open(\"gfg.html\", \"wb\") as f_output:\n",
    "#         f_output.write(soup.prettify(\"utf-8\"))"
   ]
  },
  {
   "cell_type": "code",
   "execution_count": null,
   "id": "7558603e-e170-4e36-8b51-1117f4ff9d0a",
   "metadata": {
    "tags": []
   },
   "outputs": [],
   "source": [
    "# from IPython.display import IFrame\n",
    "\n",
    "# IFrame(src='./appTemplate.html', width=1200, height=1000)"
   ]
  },
  {
   "cell_type": "code",
   "execution_count": null,
   "id": "522da9a3-9c2b-4060-b1be-126faca3b1b3",
   "metadata": {},
   "outputs": [],
   "source": []
  }
 ],
 "metadata": {
  "kernelspec": {
   "display_name": "Python 3 (ipykernel)",
   "language": "python",
   "name": "python3"
  },
  "language_info": {
   "codemirror_mode": {
    "name": "ipython",
    "version": 3
   },
   "file_extension": ".py",
   "mimetype": "text/x-python",
   "name": "python",
   "nbconvert_exporter": "python",
   "pygments_lexer": "ipython3",
   "version": "3.10.4"
  }
 },
 "nbformat": 4,
 "nbformat_minor": 5
}
