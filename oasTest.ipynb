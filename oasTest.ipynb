{
 "cells": [
  {
   "cell_type": "markdown",
   "id": "dac5ddaa-ea5e-4413-bb78-2f4030b61e70",
   "metadata": {},
   "source": [
    "OAS Unit Test"
   ]
  },
  {
   "cell_type": "code",
   "execution_count": 1,
   "id": "572cd706-3e46-4648-8430-741edcfcd750",
   "metadata": {
    "tags": []
   },
   "outputs": [],
   "source": [
    "#! pip install import_ipynb"
   ]
  },
  {
   "cell_type": "code",
   "execution_count": 2,
   "id": "2117f2df-f217-4a1a-ad53-9f1efda0b623",
   "metadata": {
    "tags": []
   },
   "outputs": [
    {
     "name": "stdout",
     "output_type": "stream",
     "text": [
      "importing Jupyter notebook from oas.ipynb\n"
     ]
    }
   ],
   "source": [
    "import warnings\n",
    "warnings.filterwarnings('ignore')\n",
    "import import_ipynb\n",
    "import unittest\n",
    "from oas import Oracle\n",
    "import json"
   ]
  },
  {
   "cell_type": "code",
   "execution_count": 3,
   "id": "673220d9-c6bd-4f82-878f-89a36575d129",
   "metadata": {
    "tags": []
   },
   "outputs": [],
   "source": [
    "class TestOracleEngine(unittest.TestCase):\n",
    "    def setUp(self):\n",
    "        self.node_map = \"3b2ga\"\n",
    "        self.access = \"offline\"\n",
    "        self.node_weights = [\"34\", \"34\", \"34\", \"5\", \"5\"]\n",
    "        self.node_profile = \"13748\"\n",
    "        self.engine = Oracle(self.access, \n",
    "                             self.node_map, \n",
    "                             self.node_profile,\n",
    "                             self.node_weights)\n",
    "        \n",
    "    def test_get_model_names(self):\n",
    "        engine = self.engine\n",
    "        actual = engine.get_model_names()\n",
    "        print(actual)\n",
    "        \n",
    "    def test_template_parser(self):\n",
    "        engine = self.engine\n",
    "        actual = engine.template_parser()\n",
    "        import html\n",
    "        html.unescape(actual)\n",
    "        main = html.escape(actual)\n",
    "        #print(type(main))\n",
    "        #text = actual.find_all('script')\n",
    "        #print(type(text[1])\n",
    "        #print(text[1].text.find(460,20))\n",
    "        #help(text[1])\n",
    "        \n",
    "    def test_node_map(self):\n",
    "        engine = self.engine\n",
    "        actual = engine.generate_map()\n",
    "        #print(*actual, sep='\\n')"
   ]
  },
  {
   "cell_type": "code",
   "execution_count": 4,
   "id": "28eff310-8e73-4077-9f81-faf38eb3d2f4",
   "metadata": {
    "tags": []
   },
   "outputs": [
    {
     "name": "stderr",
     "output_type": "stream",
     "text": [
      "../tmp/ipykernel_11765/1276245975.py:19: ResourceWarning: unclosed file <_io.TextIOWrapper name='./appTemplate.html' mode='r' encoding='UTF-8'>\n",
      "  actual = engine.template_parser()\n",
      "ResourceWarning: Enable tracemalloc to get the object allocation traceback\n",
      "/tmp/ipykernel_11765/1276245975.py:19: ResourceWarning: unclosed file <_io.TextIOWrapper name='./oracleReport.html' mode='w' encoding='UTF-8'>\n",
      "  actual = engine.template_parser()\n",
      "ResourceWarning: Enable tracemalloc to get the object allocation traceback\n",
      ".\n",
      "----------------------------------------------------------------------\n",
      "Ran 3 tests in 0.006s\n",
      "\n",
      "OK\n"
     ]
    },
    {
     "name": "stdout",
     "output_type": "stream",
     "text": [
      "['gan', 'cnn', 'yolo', 'gpt', 'yolo', 'alpha']\n"
     ]
    }
   ],
   "source": [
    "if __name__ == '__main__':\n",
    "    unittest.main(argv=['first-arg-is-ignored'], exit=False)"
   ]
  },
  {
   "cell_type": "code",
   "execution_count": 5,
   "id": "af8b92b3-aa8b-4671-9205-2c58ab0cf13a",
   "metadata": {
    "tags": []
   },
   "outputs": [
    {
     "data": {
      "text/html": [
       "\n",
       "        <iframe\n",
       "            width=\"1200\"\n",
       "            height=\"1000\"\n",
       "            src=\"./oracleReport.html\"\n",
       "            frameborder=\"0\"\n",
       "            allowfullscreen\n",
       "            \n",
       "        ></iframe>\n",
       "        "
      ],
      "text/plain": [
       "<IPython.lib.display.IFrame at 0x7f90c433fb50>"
      ]
     },
     "execution_count": 5,
     "metadata": {},
     "output_type": "execute_result"
    }
   ],
   "source": [
    "from IPython.display import IFrame\n",
    "IFrame(src='./oracleReport.html', width=1200, height=1000)"
   ]
  }
 ],
 "metadata": {
  "kernelspec": {
   "display_name": "Python 3 (ipykernel)",
   "language": "python",
   "name": "python3"
  },
  "language_info": {
   "codemirror_mode": {
    "name": "ipython",
    "version": 3
   },
   "file_extension": ".py",
   "mimetype": "text/x-python",
   "name": "python",
   "nbconvert_exporter": "python",
   "pygments_lexer": "ipython3",
   "version": "3.10.4"
  }
 },
 "nbformat": 4,
 "nbformat_minor": 5
}
